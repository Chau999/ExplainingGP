{
 "cells": [
  {
   "cell_type": "code",
   "execution_count": 1,
   "id": "e8a8e2a0",
   "metadata": {},
   "outputs": [],
   "source": [
    "import os\n",
    "os.chdir(\"../\")"
   ]
  },
  {
   "cell_type": "code",
   "execution_count": 2,
   "id": "7fab132d",
   "metadata": {},
   "outputs": [],
   "source": [
    "%load_ext autoreload\n",
    "%autoreload 2\n",
    "\n",
    "import warnings\n",
    "warnings.filterwarnings('ignore')\n",
    "\n",
    "import torch\n",
    "import matplotlib.pylab as plt\n",
    "\n",
    "from sklearn.datasets import load_breast_cancer\n",
    "from gpytorch.kernels import RBFKernel\n",
    "\n",
    "from src.gp_models.VariationalGPRegression import VariationalGPRegression\n",
    "from src.explanation_algorithms.BayesGPSHAP import BayesGPSHAP\n",
    "from src.utils.visualisation.deterministic_values import summary_plot\n",
    "from src.utils.visualisation.stochastic_values import local_explanation_plot"
   ]
  },
  {
   "cell_type": "code",
   "execution_count": 3,
   "id": "86228f34",
   "metadata": {},
   "outputs": [],
   "source": [
    "breast_cancer = load_breast_cancer()\n",
    "X, y, feature_names = breast_cancer.data, breast_cancer.target, breast_cancer.feature_names\n",
    "X, y = torch.tensor(X).float(), torch.tensor(y).float()\n",
    "\n",
    "# Standardise\n",
    "scale = y.std().numpy()\n",
    "y = (y - y.mean()) / y.std()"
   ]
  },
  {
   "cell_type": "code",
   "execution_count": 6,
   "id": "25056423",
   "metadata": {},
   "outputs": [
    {
     "data": {
      "application/vnd.jupyter.widget-view+json": {
       "model_id": "57d054a1d8b1419e8f7b395e1253ed94",
       "version_major": 2,
       "version_minor": 0
      },
      "text/plain": [
       "Epoch:   0%|          | 0/1000 [00:00<?, ?it/s]"
      ]
     },
     "metadata": {},
     "output_type": "display_data"
    }
   ],
   "source": [
    "kernel = RBFKernel\n",
    "gp_regression = VariationalGPRegression(\n",
    "    X, y, kernel=kernel, num_inducing_points=150, batch_size=64\n",
    ")\n",
    "gp_regression.fit(learning_rate=1e-4, training_iteration=1000)"
   ]
  },
  {
   "cell_type": "markdown",
   "id": "29b281b4",
   "metadata": {},
   "source": [
    "### Sanity Check"
   ]
  },
  {
   "cell_type": "code",
   "execution_count": 8,
   "id": "a4a9952b",
   "metadata": {
    "scrolled": false
   },
   "outputs": [
    {
     "data": {
      "text/plain": [
       "<matplotlib.lines._AxLine at 0x7f866d475660>"
      ]
     },
     "execution_count": 8,
     "metadata": {},
     "output_type": "execute_result"
    },
    {
     "data": {
      "image/png": "[encoded data removed]",
      "text/plain": [
       "<Figure size 640x480 with 1 Axes>"
      ]
     },
     "metadata": {},
     "output_type": "display_data"
    }
   ],
   "source": [
    "y_test = y[:100]\n",
    "test_mean, test_cov = gp_regression.compute_posterior_mean_and_covariance_of_data(X[:100], likelihood=None)\n",
    "\n",
    "plt.scatter(test_mean.numpy(), y_test.numpy())\n",
    "plt.axline((0,0), slope=1)"
   ]
  },
  {
   "cell_type": "markdown",
   "id": "1aabc895",
   "metadata": {},
   "source": [
    "## Explanation"
   ]
  },
  {
   "cell_type": "code",
   "execution_count": null,
   "id": "cf42ed41",
   "metadata": {},
   "outputs": [
    {
     "name": "stderr",
     "output_type": "stream",
     "text": [
      "100%|█████████████████████████████████████████████████████████████████████████████████████████████████████████████████████████████████████████████████████████████████████████████████████████████████████████████████████████████████████████████████████████████████████████| 65537/65537 [01:36<00:00, 679.15it/s]\n"
     ]
    }
   ],
   "source": [
    "explanation_instances = X[:1000]\n",
    "bayes_gpshap = BayesGPSHAP(train_X=X,\n",
    "                           scale=scale,\n",
    "                           model=gp_regression,\n",
    "                           kernel=kernel(),\n",
    "                           include_likelihood_noise_for_explanation=False)\n",
    "\n",
    "bayes_gpshap.fit_bayesgpshap(explanation_instances, num_coalitions=2**16)"
   ]
  },
  {
   "cell_type": "code",
   "execution_count": null,
   "id": "e39987af",
   "metadata": {},
   "outputs": [],
   "source": []
  }
 ],
 "metadata": {
  "kernelspec": {
   "display_name": "Python 3 (ipykernel)",
   "language": "python",
   "name": "python3"
  },
  "language_info": {
   "codemirror_mode": {
    "name": "ipython",
    "version": 3
   },
   "file_extension": ".py",
   "mimetype": "text/x-python",
   "name": "python",
   "nbconvert_exporter": "python",
   "pygments_lexer": "ipython3",
   "version": "3.10.11"
  }
 },
 "nbformat": 4,
 "nbformat_minor": 5
}
